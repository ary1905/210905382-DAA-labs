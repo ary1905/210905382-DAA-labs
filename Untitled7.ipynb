{
  "nbformat": 4,
  "nbformat_minor": 0,
  "metadata": {
    "colab": {
      "provenance": [],
      "gpuType": "T4",
      "authorship_tag": "ABX9TyMSUDKhInv59igaku+JIecF",
      "include_colab_link": true
    },
    "kernelspec": {
      "name": "python3",
      "display_name": "Python 3"
    },
    "language_info": {
      "name": "python"
    },
    "accelerator": "GPU"
  },
  "cells": [
    {
      "cell_type": "markdown",
      "metadata": {
        "id": "view-in-github",
        "colab_type": "text"
      },
      "source": [
        "<a href=\"https://colab.research.google.com/github/ary1905/210905382-DAA-labs/blob/master/Untitled7.ipynb\" target=\"_parent\"><img src=\"https://colab.research.google.com/assets/colab-badge.svg\" alt=\"Open In Colab\"/></a>"
      ]
    },
    {
      "cell_type": "code",
      "execution_count": 1,
      "metadata": {
        "colab": {
          "base_uri": "https://localhost:8080/"
        },
        "id": "c4I7M69VGusO",
        "outputId": "23ca70bf-8906-418b-d1da-35477803a219"
      },
      "outputs": [
        {
          "output_type": "stream",
          "name": "stdout",
          "text": [
            "nvcc: NVIDIA (R) Cuda compiler driver\n",
            "Copyright (c) 2005-2023 NVIDIA Corporation\n",
            "Built on Tue_Aug_15_22:02:13_PDT_2023\n",
            "Cuda compilation tools, release 12.2, V12.2.140\n",
            "Build cuda_12.2.r12.2/compiler.33191640_0\n"
          ]
        }
      ],
      "source": [
        "!nvcc --version"
      ]
    },
    {
      "cell_type": "code",
      "source": [
        "ls"
      ],
      "metadata": {
        "colab": {
          "base_uri": "https://localhost:8080/"
        },
        "id": "kg9kTp5ZG2Ia",
        "outputId": "f54e9281-99e3-43cb-8fbb-6bc797f770a7"
      },
      "execution_count": 2,
      "outputs": [
        {
          "output_type": "stream",
          "name": "stdout",
          "text": [
            "\u001b[0m\u001b[01;34msample_data\u001b[0m/\n"
          ]
        }
      ]
    },
    {
      "cell_type": "code",
      "source": [
        "cd sample_data/"
      ],
      "metadata": {
        "colab": {
          "base_uri": "https://localhost:8080/"
        },
        "id": "hrEg3aXQHIWw",
        "outputId": "61d63d10-9915-4a5e-d237-bd7cb04ac03d"
      },
      "execution_count": 3,
      "outputs": [
        {
          "output_type": "stream",
          "name": "stdout",
          "text": [
            "/content/sample_data\n"
          ]
        }
      ]
    },
    {
      "cell_type": "code",
      "source": [
        "!nvcc -o output_file input_file.cu"
      ],
      "metadata": {
        "colab": {
          "base_uri": "https://localhost:8080/"
        },
        "id": "9pUmpV4GHNFZ",
        "outputId": "ff791c2d-1964-46af-ec44-1d41d87157d0"
      },
      "execution_count": 21,
      "outputs": [
        {
          "output_type": "stream",
          "name": "stdout",
          "text": [
            "\u001b[01m\u001b[0m\u001b[01mstb_image.h(4275)\u001b[0m: \u001b[01;35mwarning\u001b[0m #550-D: variable \u001b[01m\"old_limit\"\u001b[0m was set but never used\n",
            "     unsigned int cur, limit, old_limit;\n",
            "                              ^\n",
            "\n",
            "\u001b[01;36m\u001b[0m\u001b[01;36mRemark\u001b[0m: The warnings can be suppressed with \"-diag-suppress <warning-number>\"\n",
            "\n",
            "\u001b[01m\u001b[0m\u001b[01mstb_image.h(5182)\u001b[0m: \u001b[01;35mwarning\u001b[0m #550-D: variable \u001b[01m\"idata_limit_old\"\u001b[0m was set but never used\n",
            "                 stbi__uint32 idata_limit_old = idata_limit;\n",
            "                              ^\n",
            "\n",
            "\u001b[01m\u001b[0m\u001b[01mstb_image.h(6969)\u001b[0m: \u001b[01;35mwarning\u001b[0m #550-D: variable \u001b[01m\"out_size\"\u001b[0m was set but never used\n",
            "        int out_size = 0;\n",
            "            ^\n",
            "\n",
            "\u001b[01m\u001b[0m\u001b[01mstb_image.h(6970)\u001b[0m: \u001b[01;35mwarning\u001b[0m #550-D: variable \u001b[01m\"delays_size\"\u001b[0m was set but never used\n",
            "        int delays_size = 0;\n",
            "            ^\n",
            "\n"
          ]
        }
      ]
    },
    {
      "cell_type": "code",
      "source": [
        "!./output_file"
      ],
      "metadata": {
        "colab": {
          "base_uri": "https://localhost:8080/"
        },
        "id": "c2RsjyerHQA1",
        "outputId": "db58c4cf-6835-45e7-fbe2-b69aa32ff37a"
      },
      "execution_count": 23,
      "outputs": [
        {
          "output_type": "stream",
          "name": "stdout",
          "text": [
            "Enter your choice:\n",
            "1. Gaussian Blur\n",
            "2. Edge Detection\n",
            "3. Grayscale Conversion\n",
            "2\n"
          ]
        }
      ]
    },
    {
      "cell_type": "code",
      "source": [],
      "metadata": {
        "id": "JdEkahbWHU65"
      },
      "execution_count": null,
      "outputs": []
    }
  ]
}